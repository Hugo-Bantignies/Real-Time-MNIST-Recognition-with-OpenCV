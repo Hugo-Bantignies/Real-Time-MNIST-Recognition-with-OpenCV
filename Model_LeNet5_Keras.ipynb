{
 "cells": [
  {
   "cell_type": "markdown",
   "id": "parliamentary-championship",
   "metadata": {},
   "source": [
    "# Librairies"
   ]
  },
  {
   "cell_type": "code",
   "execution_count": 1,
   "id": "clinical-aberdeen",
   "metadata": {},
   "outputs": [],
   "source": [
    "#Numpy\n",
    "import numpy as np\n",
    "#Tensorflow\n",
    "from tensorflow import keras\n",
    "from tensorflow.keras import layers\n",
    "#Math\n",
    "import matplotlib.pyplot as plt\n",
    "import math"
   ]
  },
  {
   "cell_type": "markdown",
   "id": "objective-class",
   "metadata": {},
   "source": [
    "# Data preparation\n",
    "We will prepare two data sets : a Training Set and a Testing Set."
   ]
  },
  {
   "cell_type": "code",
   "execution_count": 2,
   "id": "underlying-pierre",
   "metadata": {},
   "outputs": [],
   "source": [
    "# Model / data parameters\n",
    "num_classes = 10 # digits : 0,1,2,3,4,5,6,7,8,9\n",
    "input_shape = (28, 28, 1)\n",
    "\n",
    "# Split the data to obtain train and test sets\n",
    "\n",
    "(x_train, y_train), (x_test, y_test) = keras.datasets.mnist.load_data()\n",
    "\n",
    "# Data preparation\n",
    "# Normalization : Scale images to the [0, 1] range \n",
    "\n",
    "x_train = x_train.astype(\"float32\") / 255\n",
    "x_test = x_test.astype(\"float32\") / 255\n",
    "\n",
    "# Make sure images have shape (28, 28, 1)\n",
    "\n",
    "x_train = np.expand_dims(x_train, -1)\n",
    "x_test = np.expand_dims(x_test, -1)\n",
    "\n",
    "# Convert class vectors to binary class matrices\n",
    "\n",
    "y_train = keras.utils.to_categorical(y_train, num_classes)\n",
    "y_test = keras.utils.to_categorical(y_test, num_classes)"
   ]
  },
  {
   "cell_type": "markdown",
   "id": "accessory-guatemala",
   "metadata": {},
   "source": [
    "## Model definition\n",
    "\n",
    "The model definition follows the LeNet5 architecture. We are redefining it.\n",
    "\n",
    "***LeNet5 definition***"
   ]
  },
  {
   "cell_type": "code",
   "execution_count": 3,
   "id": "asian-surname",
   "metadata": {},
   "outputs": [
    {
     "name": "stdout",
     "output_type": "stream",
     "text": [
      "Model: \"sequential\"\n",
      "_________________________________________________________________\n",
      "Layer (type)                 Output Shape              Param #   \n",
      "=================================================================\n",
      "conv2d (Conv2D)              (None, 28, 28, 6)         156       \n",
      "_________________________________________________________________\n",
      "max_pooling2d (MaxPooling2D) (None, 14, 14, 6)         0         \n",
      "_________________________________________________________________\n",
      "conv2d_1 (Conv2D)            (None, 10, 10, 16)        2416      \n",
      "_________________________________________________________________\n",
      "max_pooling2d_1 (MaxPooling2 (None, 5, 5, 16)          0         \n",
      "_________________________________________________________________\n",
      "flatten (Flatten)            (None, 400)               0         \n",
      "_________________________________________________________________\n",
      "dropout (Dropout)            (None, 400)               0         \n",
      "_________________________________________________________________\n",
      "dense (Dense)                (None, 120)               48120     \n",
      "_________________________________________________________________\n",
      "dense_1 (Dense)              (None, 84)                10164     \n",
      "_________________________________________________________________\n",
      "dense_2 (Dense)              (None, 10)                850       \n",
      "=================================================================\n",
      "Total params: 61,706\n",
      "Trainable params: 61,706\n",
      "Non-trainable params: 0\n",
      "_________________________________________________________________\n"
     ]
    }
   ],
   "source": [
    "#LeNet5 definition\n",
    "net5 = keras.Sequential(\n",
    "    [\n",
    "        keras.Input(shape=input_shape),\n",
    "        layers.Conv2D(6, kernel_size=5,padding = \"same\", activation=\"relu\"),\n",
    "        layers.MaxPooling2D(pool_size=(2, 2)),\n",
    "        layers.Conv2D(16, kernel_size=5, activation=\"relu\"),\n",
    "        layers.MaxPooling2D(pool_size=(2, 2)),\n",
    "        layers.Flatten(),\n",
    "        layers.Dropout(0.5),\n",
    "        layers.Dense(120, activation = \"relu\"),\n",
    "        layers.Dense(84, activation = \"relu\"),\n",
    "        layers.Dense(num_classes, activation=\"softmax\"),\n",
    "    ]\n",
    ")\n",
    "\n",
    "#Summary\n",
    "net5.summary()"
   ]
  },
  {
   "cell_type": "markdown",
   "id": "transparent-dimension",
   "metadata": {},
   "source": [
    "## Training of the model\n",
    "\n",
    "For the training, we set the epoch number to 20. We will train obviously on the training set."
   ]
  },
  {
   "cell_type": "code",
   "execution_count": null,
   "id": "confidential-basin",
   "metadata": {},
   "outputs": [
    {
     "name": "stdout",
     "output_type": "stream",
     "text": [
      "Epoch 1/20\n",
      "422/422 [==============================] - 11s 27ms/step - loss: 0.4291 - accuracy: 0.8626 - val_loss: 0.0881 - val_accuracy: 0.9747\n",
      "Epoch 2/20\n",
      "422/422 [==============================] - 13s 30ms/step - loss: 0.1521 - accuracy: 0.9525 - val_loss: 0.0640 - val_accuracy: 0.9825\n",
      "Epoch 3/20\n",
      "422/422 [==============================] - 14s 34ms/step - loss: 0.1175 - accuracy: 0.9636 - val_loss: 0.0533 - val_accuracy: 0.9845\n",
      "Epoch 4/20\n",
      "422/422 [==============================] - 13s 31ms/step - loss: 0.1022 - accuracy: 0.9674 - val_loss: 0.0483 - val_accuracy: 0.9855\n",
      "Epoch 5/20\n",
      "422/422 [==============================] - 13s 30ms/step - loss: 0.0915 - accuracy: 0.9706 - val_loss: 0.0447 - val_accuracy: 0.9877\n",
      "Epoch 6/20\n",
      "422/422 [==============================] - 13s 31ms/step - loss: 0.0787 - accuracy: 0.9746 - val_loss: 0.0383 - val_accuracy: 0.9882\n",
      "Epoch 7/20\n",
      "422/422 [==============================] - 13s 31ms/step - loss: 0.0729 - accuracy: 0.9771 - val_loss: 0.0383 - val_accuracy: 0.9902\n",
      "Epoch 8/20\n",
      "422/422 [==============================] - 14s 32ms/step - loss: 0.0671 - accuracy: 0.9788 - val_loss: 0.0431 - val_accuracy: 0.9870\n",
      "Epoch 9/20\n",
      "422/422 [==============================] - 13s 30ms/step - loss: 0.0661 - accuracy: 0.9793 - val_loss: 0.0360 - val_accuracy: 0.9893\n",
      "Epoch 10/20\n",
      "422/422 [==============================] - 13s 32ms/step - loss: 0.0609 - accuracy: 0.9808 - val_loss: 0.0354 - val_accuracy: 0.9900\n",
      "Epoch 11/20\n",
      "422/422 [==============================] - 13s 30ms/step - loss: 0.0562 - accuracy: 0.9813 - val_loss: 0.0332 - val_accuracy: 0.9903\n",
      "Epoch 12/20\n",
      "422/422 [==============================] - 14s 32ms/step - loss: 0.0536 - accuracy: 0.9825 - val_loss: 0.0336 - val_accuracy: 0.9905\n",
      "Epoch 13/20\n",
      "422/422 [==============================] - 13s 31ms/step - loss: 0.0501 - accuracy: 0.9834 - val_loss: 0.0301 - val_accuracy: 0.9905\n",
      "Epoch 14/20\n",
      "422/422 [==============================] - 14s 33ms/step - loss: 0.0498 - accuracy: 0.9839 - val_loss: 0.0324 - val_accuracy: 0.9910\n",
      "Epoch 15/20\n",
      "422/422 [==============================] - 13s 30ms/step - loss: 0.0511 - accuracy: 0.9833 - val_loss: 0.0314 - val_accuracy: 0.9908\n",
      "Epoch 16/20\n",
      "267/422 [=================>............] - ETA: 4s - loss: 0.0437 - accuracy: 0.9859"
     ]
    }
   ],
   "source": [
    "#Variables\n",
    "batch_size = 128\n",
    "epochs = 20\n",
    "\n",
    "#Training\n",
    "net5.compile(loss=\"categorical_crossentropy\", optimizer=\"adam\", metrics=[\"accuracy\"])\n",
    "\n",
    "#Statistics (accuracy and loss)\n",
    "history = net5.fit(x_train, y_train, batch_size=batch_size, epochs=epochs, validation_split=0.1)\n",
    "net5.save('net5.h5')"
   ]
  },
  {
   "cell_type": "markdown",
   "id": "clear-alberta",
   "metadata": {},
   "source": [
    "### Training analysis\n",
    "\n",
    "We will plot the accuracy and the loss for traning and evaluation set. The blue is for the training and the orange is the evaluation. \n",
    "\n",
    "***Accuracy***"
   ]
  },
  {
   "cell_type": "code",
   "execution_count": null,
   "id": "alien-netscape",
   "metadata": {},
   "outputs": [],
   "source": [
    "# summarize history for accuracy\n",
    "plt.plot(history.history['accuracy'])\n",
    "plt.plot(history.history['val_accuracy'])\n",
    "plt.title('LeNet5 accuracy')\n",
    "plt.ylabel('accuracy')\n",
    "plt.xlabel('epoch')\n",
    "plt.legend(['train', 'evaluation'], loc='lower right')\n",
    "plt.show()"
   ]
  },
  {
   "cell_type": "markdown",
   "id": "considered-middle",
   "metadata": {},
   "source": [
    "***Loss***"
   ]
  },
  {
   "cell_type": "code",
   "execution_count": null,
   "id": "engaging-publication",
   "metadata": {},
   "outputs": [],
   "source": [
    "# summarize history for loss\n",
    "plt.plot(history.history['loss'])\n",
    "plt.plot(history.history['val_loss'])\n",
    "plt.title('LeNet5 loss')\n",
    "plt.ylabel('loss')\n",
    "plt.xlabel('epoch')\n",
    "plt.legend(['train', 'evaluation'], loc='upper right')\n",
    "plt.show()"
   ]
  }
 ],
 "metadata": {
  "kernelspec": {
   "display_name": "Python 3",
   "language": "python",
   "name": "python3"
  },
  "language_info": {
   "codemirror_mode": {
    "name": "ipython",
    "version": 3
   },
   "file_extension": ".py",
   "mimetype": "text/x-python",
   "name": "python",
   "nbconvert_exporter": "python",
   "pygments_lexer": "ipython3",
   "version": "3.8.5"
  }
 },
 "nbformat": 4,
 "nbformat_minor": 5
}
